{
 "cells": [
  {
   "cell_type": "code",
   "execution_count": 186,
   "metadata": {},
   "outputs": [],
   "source": [
    "import torch\n",
    "import torch.nn as nn\n",
    "import torch.optim as optim\n",
    "import torch.nn.init as init\n",
    "import numpy as np\n",
    "#df =pd.read_csv('./과제물/thoraric.txt',sep='\\t', header = None)\n",
    "#df"
   ]
  },
  {
   "cell_type": "code",
   "execution_count": 187,
   "metadata": {
    "scrolled": true
   },
   "outputs": [],
   "source": [
    "data_set = np.loadtxt('./과제물/ThoraricSurgery.csv',delimiter=\",\")\n",
    "\n",
    "\n"
   ]
  },
  {
   "cell_type": "code",
   "execution_count": 188,
   "metadata": {},
   "outputs": [],
   "source": [
    "X_np = data_set[:,:17]\n",
    "Y_np = data_set[:,17]"
   ]
  },
  {
   "cell_type": "code",
   "execution_count": 189,
   "metadata": {},
   "outputs": [],
   "source": [
    "X_tensor = torch.tensor(X_np).float()\n",
    "Y_tensor = torch.tensor(Y_np).float()"
   ]
  },
  {
   "cell_type": "code",
   "execution_count": 190,
   "metadata": {},
   "outputs": [],
   "source": [
    "model = nn.Sequential(\n",
    "    nn.Linear(17,7990),\n",
    "    nn.Tanh(),\n",
    "    nn.Linear(7990,470),\n",
    "    nn.Tanh(),\n",
    "    nn.Linear(470,1),\n",
    "    nn.Sigmoid()\n",
    ")"
   ]
  },
  {
   "cell_type": "code",
   "execution_count": 191,
   "metadata": {},
   "outputs": [],
   "source": [
    "loss_func = nn.BCELoss()\n",
    "optimizer = optim.SGD(model.parameters(), lr=0.1)"
   ]
  },
  {
   "cell_type": "code",
   "execution_count": 192,
   "metadata": {},
   "outputs": [
    {
     "name": "stdout",
     "output_type": "stream",
     "text": [
      "0.7491239309310913\n",
      "0.6317759156227112\n",
      "0.4903174638748169\n",
      "0.4464420974254608\n",
      "0.42639797925949097\n",
      "0.4330023527145386\n",
      "0.43640390038490295\n",
      "0.4316781461238861\n",
      "0.42746758460998535\n",
      "0.4230598211288452\n",
      "0.41898736357688904\n",
      "0.41555747389793396\n",
      "0.4119841456413269\n",
      "0.40787020325660706\n",
      "0.4039504826068878\n",
      "0.39880162477493286\n",
      "0.39447852969169617\n",
      "0.3903491497039795\n",
      "0.3865795433521271\n",
      "0.382589191198349\n",
      "0.3788917362689972\n",
      "0.37520021200180054\n",
      "0.37159326672554016\n",
      "0.3711509108543396\n",
      "0.363330602645874\n",
      "0.35753992199897766\n",
      "0.35639438033103943\n",
      "0.35618412494659424\n",
      "0.3546939790248871\n",
      "0.35035356879234314\n"
     ]
    }
   ],
   "source": [
    "loss_list = []\n",
    "#output=[i[0]for i in output]\n",
    "\n",
    "for i in range(3000) : #시간상 100 원래 3000\n",
    "    optimizer.zero_grad()\n",
    "    output = model(X_tensor)\n",
    "    output = output.view([470])\n",
    "    loss = loss_func(output, Y_tensor)\n",
    "    loss.backward()\n",
    "    optimizer.step()\n",
    "    if i%100 == 0 : #시간상 5개 원래 100\n",
    "        print(loss.item())\n",
    "        loss_list.append(loss.item())"
   ]
  },
  {
   "cell_type": "code",
   "execution_count": 193,
   "metadata": {},
   "outputs": [],
   "source": [
    "output = model(X_tensor)"
   ]
  },
  {
   "cell_type": "code",
   "execution_count": 194,
   "metadata": {},
   "outputs": [],
   "source": [
    "pred= output > 0.5"
   ]
  },
  {
   "cell_type": "code",
   "execution_count": 195,
   "metadata": {},
   "outputs": [],
   "source": [
    "pred_np = pred.detach().numpy()\n",
    "pred_np = pred_np[:,0]"
   ]
  },
  {
   "cell_type": "code",
   "execution_count": 198,
   "metadata": {},
   "outputs": [],
   "source": [
    "acc = np.mean(pred_np ==Y_np)"
   ]
  },
  {
   "cell_type": "code",
   "execution_count": 199,
   "metadata": {},
   "outputs": [
    {
     "data": {
      "text/plain": [
       "0.8829787234042553"
      ]
     },
     "execution_count": 199,
     "metadata": {},
     "output_type": "execute_result"
    }
   ],
   "source": [
    "acc"
   ]
  },
  {
   "cell_type": "code",
   "execution_count": 201,
   "metadata": {},
   "outputs": [],
   "source": [
    "torch.save(model,'model2_2019020494.pth')"
   ]
  },
  {
   "cell_type": "code",
   "execution_count": null,
   "metadata": {},
   "outputs": [],
   "source": []
  }
 ],
 "metadata": {
  "kernelspec": {
   "display_name": "Python 3",
   "language": "python",
   "name": "python3"
  },
  "language_info": {
   "codemirror_mode": {
    "name": "ipython",
    "version": 3
   },
   "file_extension": ".py",
   "mimetype": "text/x-python",
   "name": "python",
   "nbconvert_exporter": "python",
   "pygments_lexer": "ipython3",
   "version": "3.7.6"
  }
 },
 "nbformat": 4,
 "nbformat_minor": 4
}
