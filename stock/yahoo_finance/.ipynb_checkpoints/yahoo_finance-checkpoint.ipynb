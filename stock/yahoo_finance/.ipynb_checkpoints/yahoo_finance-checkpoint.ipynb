{
 "cells": [
  {
   "cell_type": "code",
   "execution_count": 2,
   "metadata": {},
   "outputs": [],
   "source": [
    "import pandas as pd\n",
    "import requests\n",
    "from bs4 import BeautifulSoup\n",
    "import json\n",
    "import sys\n",
    "import traceback\n",
    "import time, random\n",
    "tic_df = pd.read_csv('tic_list.txt',sep='\t',header = None)\n",
    "tic_list = tic_df[1].tolist()"
   ]
  },
  {
   "cell_type": "code",
   "execution_count": 5,
   "metadata": {},
   "outputs": [
    {
     "data": {
      "text/plain": [
       "['ITW', 'SIM', 'EBR', 'HCA', 'SNOW', 'MMC', 'CL', 'EQIX']"
      ]
     },
     "execution_count": 5,
     "metadata": {},
     "output_type": "execute_result"
    }
   ],
   "source": [
    "\n",
    "tic_list[192:200]"
   ]
  },
  {
   "cell_type": "code",
   "execution_count": null,
   "metadata": {},
   "outputs": [
    {
     "name": "stdout",
     "output_type": "stream",
     "text": [
      "https://finance.yahoo.com/quote/SOJC/financials?p=SOJC / fail"
     ]
    },
    {
     "name": "stderr",
     "output_type": "stream",
     "text": [
      "Traceback (most recent call last):\n",
      "  File \"<ipython-input-6-c56c59f57b8b>\", line 11, in <module>\n",
      "    div_list = data_box.find_all('div')\n",
      "AttributeError: 'NoneType' object has no attribute 'find_all'\n"
     ]
    },
    {
     "name": "stdout",
     "output_type": "stream",
     "text": [
      "https://finance.yahoo.com/quote/SOJB/financials?p=SOJB / fail"
     ]
    },
    {
     "name": "stderr",
     "output_type": "stream",
     "text": [
      "Traceback (most recent call last):\n",
      "  File \"<ipython-input-6-c56c59f57b8b>\", line 11, in <module>\n",
      "    div_list = data_box.find_all('div')\n",
      "AttributeError: 'NoneType' object has no attribute 'find_all'\n"
     ]
    },
    {
     "name": "stdout",
     "output_type": "stream",
     "text": [
      "https://finance.yahoo.com/quote/DRUA/financials?p=DRUA / fail"
     ]
    },
    {
     "name": "stderr",
     "output_type": "stream",
     "text": [
      "Traceback (most recent call last):\n",
      "  File \"<ipython-input-6-c56c59f57b8b>\", line 11, in <module>\n",
      "    div_list = data_box.find_all('div')\n",
      "AttributeError: 'NoneType' object has no attribute 'find_all'\n"
     ]
    },
    {
     "name": "stdout",
     "output_type": "stream",
     "text": [
      "https://finance.yahoo.com/quote/AEP/financials?p=AEP"
     ]
    }
   ],
   "source": [
    "datas = []\n",
    "for tic in tic_list[193:] :\n",
    "\n",
    "    try :\n",
    "        url = f'https://finance.yahoo.com/quote/{tic}/financials?p={tic}'\n",
    "        #print(url)\n",
    "        res= requests.get(url)\n",
    "        soup = BeautifulSoup(res.text, 'html.parser')\n",
    "        date_box = soup.find('div', class_='D(tbhg)')\n",
    "        data_box = soup.find('div', class_='D(tbrg)')\n",
    "        div_list = data_box.find_all('div')\n",
    "        span_list = date_box.find_all('span')\n",
    "        #date_box = table.find('div',class_='D(tbhg)')\n",
    "        tmp_dic={}\n",
    "        date_len = len(span_list)\n",
    "        for i,span in enumerate(span_list) : \n",
    "            if span.text =='ttm' :\n",
    "                for j in range(0,date_len-1) : \n",
    "                    key = f'{j}y_date'\n",
    "                    tmp_dic[key] = span_list[i+j].text\n",
    "\n",
    "\n",
    "\n",
    "\n",
    "        for div in div_list : \n",
    "            str_=div.text\n",
    "            if str_.find('Total Revenue') >= 0 : \n",
    "                span_list = div.find_all('span')\n",
    "                if len(span_list) >=3 :\n",
    "                    for i, span in enumerate(span_list):\n",
    "                        if span.text == 'Total Revenue' : \n",
    "                            for j in range(0,date_len-1) : \n",
    "                                key = f'{j}y_tot_revenue'\n",
    "                                tmp_dic[key] = span_list[i+j+1].text\n",
    "\n",
    "            if str_.find('Operating Income') >= 0 : \n",
    "                span_list = div.find_all('span')\n",
    "                if len(span_list) >=3 :\n",
    "                    for i, span in enumerate(span_list):\n",
    "                        if span.text == 'Operating Income' : \n",
    "                            for j in range(0,date_len-1) : \n",
    "                                key = f'{j}y_oper_income'\n",
    "                                tmp_dic[key] = span_list[i+j+1].text\n",
    "\n",
    "    #         if str_.find('Pretax Income') >= 0 : \n",
    "    #             span_list = div.find_all('span')\n",
    "    #             if len(span_list) >=3 :\n",
    "    #                 for i, span in enumerate(span_list):\n",
    "    #                     if span.text == 'Pretax Income' : \n",
    "    #                         for j in range(0,date_len-1) : \n",
    "    #                             key = f'{j}y_pre_income'\n",
    "    #                             tmp_dic[key] = span_list[i+j].text\n",
    "\n",
    "            if str_.find('Net Income Common Stockholders') >= 0 : \n",
    "                span_list = div.find_all('span')\n",
    "                if len(span_list) >=3 :\n",
    "                    for i, span in enumerate(span_list):\n",
    "                        if span.text == 'Net Income Common Stockholders' : \n",
    "                            for j in range(0,date_len-1) : \n",
    "                                key = f'{j}y_net_incom'\n",
    "                                tmp_dic[key] = span_list[i+j+1].text\n",
    "        tmp_dic['ticker'] =tic\n",
    "        js = json.dumps(tmp_dic)\n",
    "        with open(f'yahoo_finance_20210608.jl','a') as f:\n",
    "            f.write(js+'\\n')\n",
    "        sys.stdout.write(f'\\r{url}')\n",
    "        sys.stdout.flush()\n",
    "        #datas.append(tmp_dic)\n",
    "    except : \n",
    "        traceback.print_exc()\n",
    "        pass\n",
    "    \n",
    "        sys.stdout.write(f'\\r{url} / fail')\n",
    "        sys.stdout.flush()\n",
    "    time.sleep( random.uniform(20,30) )"
   ]
  },
  {
   "cell_type": "code",
   "execution_count": null,
   "metadata": {},
   "outputs": [],
   "source": []
  }
 ],
 "metadata": {
  "kernelspec": {
   "display_name": "Python 3",
   "language": "python",
   "name": "python3"
  },
  "language_info": {
   "codemirror_mode": {
    "name": "ipython",
    "version": 3
   },
   "file_extension": ".py",
   "mimetype": "text/x-python",
   "name": "python",
   "nbconvert_exporter": "python",
   "pygments_lexer": "ipython3",
   "version": "3.6.3"
  }
 },
 "nbformat": 4,
 "nbformat_minor": 2
}
